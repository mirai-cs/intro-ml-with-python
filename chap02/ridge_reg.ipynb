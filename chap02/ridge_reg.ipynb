{
 "cells": [
  {
   "cell_type": "code",
   "execution_count": 14,
   "id": "6265580b",
   "metadata": {},
   "outputs": [
    {
     "name": "stdout",
     "output_type": "stream",
     "text": [
      "ridge score (train): 0.6727990456451278\n",
      "ridge score (test): 0.729706931138574\n"
     ]
    }
   ],
   "source": [
    "import mglearn\n",
    "from sklearn.linear_model import Ridge\n",
    "from sklearn.model_selection import train_test_split\n",
    "from sklearn.datasets import make_regression # 例として合成データセットを使用\n",
    "\n",
    "# 代替データセットの例: make_regression\n",
    "X, y = make_regression(n_samples=100, n_features=10, noise=120, random_state=10)\n",
    "\n",
    "X_train, X_test, y_train, y_test = train_test_split(X, y, random_state=0)\n",
    "\n",
    "ridge = Ridge().fit(X_train, y_train)\n",
    "print(\"ridge score (train): {}\".format(ridge.score(X_train, y_train)))\n",
    "print(\"ridge score (test): {}\".format(ridge.score(X_test, y_test)))"
   ]
  },
  {
   "cell_type": "code",
   "execution_count": 15,
   "id": "77ed28b6",
   "metadata": {},
   "outputs": [
    {
     "name": "stdout",
     "output_type": "stream",
     "text": [
      "training set score : 0.6520002583559814\n",
      "training set score : 0.7484395806492572\n"
     ]
    }
   ],
   "source": [
    "ridge10 = Ridge(alpha=10).fit(X_train,y_train)\n",
    "print(\"training set score : {}\".format(ridge10.score(X_train,y_train)))\n",
    "print(\"training set score : {}\".format(ridge10.score(X_test,y_test)))"
   ]
  },
  {
   "cell_type": "code",
   "execution_count": 17,
   "id": "ab4da0d9",
   "metadata": {},
   "outputs": [
    {
     "name": "stdout",
     "output_type": "stream",
     "text": [
      "training score : 0.6731122276592794\n",
      "training score : 0.7236814667751076\n"
     ]
    }
   ],
   "source": [
    "ridge01 = Ridge(alpha=0.1).fit(X_train,y_train)\n",
    "print(\"training score : {}\".format(ridge01.score(X_train,y_train)))\n",
    "print(\"training score : {}\".format(ridge01.score(X_test,y_test)))"
   ]
  },
  {
   "cell_type": "code",
   "execution_count": null,
   "id": "8f40dafd",
   "metadata": {},
   "outputs": [],
   "source": []
  },
  {
   "cell_type": "markdown",
   "id": "c5522791",
   "metadata": {},
   "source": [
    "#ridge回帰について\n",
    "||w||を小さくすると，過剰適合が防がれる\n",
    "・alphaが大きい：係数が0に近づき，汎化性能はある程度までなら向上\n",
    "・alphaが小さい：係数の制約は小さくなり，汎化性能は下がることもある"
   ]
  }
 ],
 "metadata": {
  "kernelspec": {
   "display_name": "Python 3",
   "language": "python",
   "name": "python3"
  },
  "language_info": {
   "codemirror_mode": {
    "name": "ipython",
    "version": 3
   },
   "file_extension": ".py",
   "mimetype": "text/x-python",
   "name": "python",
   "nbconvert_exporter": "python",
   "pygments_lexer": "ipython3",
   "version": "3.10.12"
  }
 },
 "nbformat": 4,
 "nbformat_minor": 5
}
