{
 "cells": [
  {
   "cell_type": "code",
   "execution_count": 12,
   "id": "0198ff2a",
   "metadata": {},
   "outputs": [
    {
     "name": "stdout",
     "output_type": "stream",
     "text": [
      "ridge score (train): 0.8710021325422299\n",
      "ridge score (test): 0.8493358508581994\n",
      "number of parameter : 48\n",
      "coef_ : [-1.50266255e+00  1.73029018e+00  0.00000000e+00 -0.00000000e+00\n",
      "  4.19782058e+01 -0.00000000e+00 -9.02691044e-01  0.00000000e+00\n",
      "  0.00000000e+00 -4.08177343e-01 -1.46682406e+00  3.89778674e+01\n",
      " -1.27977746e+00  0.00000000e+00  8.03378635e+01  1.56484609e+00\n",
      " -6.49728376e-01  1.21341572e+01 -0.00000000e+00 -1.18324526e+00\n",
      "  0.00000000e+00  9.64541230e-01  2.77416205e+00 -0.00000000e+00\n",
      " -9.33586640e-01  1.88025063e+01  3.55709339e-01 -1.15493078e-01\n",
      "  1.81232774e-01 -0.00000000e+00  2.51035187e+00  3.02902268e+00\n",
      " -0.00000000e+00 -0.00000000e+00 -0.00000000e+00 -0.00000000e+00\n",
      " -1.32421399e-01  2.68258277e+01  7.85700647e-01  0.00000000e+00\n",
      " -0.00000000e+00  4.14226392e+01 -0.00000000e+00 -2.69498837e+00\n",
      " -0.00000000e+00 -1.75829868e+00 -5.51914506e-01 -0.00000000e+00\n",
      "  0.00000000e+00  0.00000000e+00 -1.43464218e-01  2.73550700e+01\n",
      "  1.80807266e+01  2.11415410e+00 -1.78864124e+00  9.35155895e-01\n",
      "  2.36705483e+01 -3.06562982e-01 -0.00000000e+00 -0.00000000e+00\n",
      "  1.68456775e+00  0.00000000e+00 -6.63158454e-01  0.00000000e+00\n",
      "  1.72477474e-01  2.78249462e-01 -0.00000000e+00  1.61780211e+00\n",
      "  0.00000000e+00 -5.33168649e-01  1.74395024e+00  6.24579887e-02\n",
      "  8.60620585e-01 -0.00000000e+00 -0.00000000e+00  0.00000000e+00\n",
      "  0.00000000e+00 -2.59345642e+00 -0.00000000e+00  1.49237387e+00]\n"
     ]
    }
   ],
   "source": [
    "from sklearn.linear_model import Lasso\n",
    "from sklearn.datasets import make_regression\n",
    "from sklearn.model_selection import train_test_split\n",
    "import numpy as np\n",
    "X, y = make_regression(n_samples=1000, n_features=80, noise=50, random_state=10)\n",
    "X_train, X_test, y_train, y_test = train_test_split(X, y, random_state=0)\n",
    "\n",
    "lasso = Lasso().fit(X_train,y_train)\n",
    "print(\"ridge score (train): {}\".format(lasso.score(X_train, y_train)))\n",
    "print(\"ridge score (test): {}\".format(lasso.score(X_test, y_test)))\n",
    "print(\"number of parameter : {}\".format(np.sum(lasso.coef_!=0)))\n",
    "print(\"coef_ : {}\".format(lasso.coef_))\n",
    "\n"
   ]
  },
  {
   "cell_type": "code",
   "execution_count": 10,
   "id": "80ebfcf4",
   "metadata": {},
   "outputs": [
    {
     "name": "stdout",
     "output_type": "stream",
     "text": [
      "ridge score (train): 0.8744530588138184\n",
      "ridge score (test): 0.8400027985273961\n",
      "number of parameter : 79\n",
      "coef_ : [-2.26399414e+00  3.01508064e+00  3.50588423e-01 -4.59006105e-01\n",
      "  4.29702722e+01 -8.16449786e-01 -2.03539436e+00  6.38611923e-01\n",
      " -5.75198570e-01 -1.25733327e+00 -2.64130589e+00  4.07277289e+01\n",
      " -1.80989289e+00  5.08358026e-01  8.12278612e+01  2.89553950e+00\n",
      " -2.36369066e+00  1.31004752e+01 -5.90419046e-01 -2.66130876e+00\n",
      "  5.39249669e-01  2.25159211e+00  3.00098663e+00 -1.00738553e-01\n",
      " -1.77234153e+00  2.00322916e+01  1.27930337e+00 -1.13382049e+00\n",
      "  1.34522710e+00 -1.87776762e-01  3.90140173e+00  3.76122349e+00\n",
      " -3.82482867e-01 -7.95033261e-01 -4.70547747e-01 -4.64924351e-01\n",
      " -1.61864865e+00  2.72461050e+01  1.92857320e+00  1.41703947e-01\n",
      " -1.10734377e+00  4.23455995e+01 -3.77124949e-01 -4.23449075e+00\n",
      " -1.31240814e+00 -2.39042366e+00 -1.62055570e+00 -4.24641108e-01\n",
      "  7.62996956e-01 -5.42336930e-02 -1.37509436e+00  2.79781112e+01\n",
      "  1.96268982e+01  2.93453846e+00 -2.97477448e+00  2.52963401e+00\n",
      "  2.43349855e+01 -1.05201005e+00 -3.94909533e-01 -7.36156756e-01\n",
      "  2.63524880e+00  7.46258703e-01 -1.58579157e+00  2.75494982e-01\n",
      "  1.78901889e+00  1.44227516e+00 -8.95538790e-01  2.78137089e+00\n",
      "  6.92469285e-01 -1.43656280e+00  2.50553509e+00  9.06234291e-01\n",
      "  1.84794667e+00 -5.57451007e-01 -0.00000000e+00  4.15177462e-01\n",
      "  9.26881796e-01 -4.18451382e+00  2.88785505e-01  2.86492029e+00]\n"
     ]
    }
   ],
   "source": [
    "from sklearn.linear_model import Lasso\n",
    "from sklearn.datasets import make_regression\n",
    "from sklearn.model_selection import train_test_split\n",
    "import numpy as np\n",
    "X, y = make_regression(n_samples=1000, n_features=80, noise=50, random_state=10)\n",
    "X_train, X_test, y_train, y_test = train_test_split(X, y, random_state=0)\n",
    "\n",
    "lasso = Lasso(alpha=0.01,max_iter=1000000).fit(X_train,y_train)\n",
    "print(\"ridge score (train): {}\".format(lasso.score(X_train, y_train)))\n",
    "print(\"ridge score (test): {}\".format(lasso.score(X_test, y_test)))\n",
    "print(\"number of parameter : {}\".format(np.sum(lasso.coef_!=0)))\n",
    "print(\"coef_ : {}\".format(lasso.coef_))\n",
    "\n"
   ]
  },
  {
   "cell_type": "code",
   "execution_count": 13,
   "id": "19889fea",
   "metadata": {},
   "outputs": [
    {
     "name": "stdout",
     "output_type": "stream",
     "text": [
      "ridge score (train): 0.874453575086053\n",
      "ridge score (test): 0.8398594335983649\n",
      "number of parameter : 80\n",
      "coef_ : [-2.27254119e+00  3.02785541e+00  3.60217063e-01 -4.64358949e-01\n",
      "  4.29814056e+01 -8.25621487e-01 -2.05043817e+00  6.54924698e-01\n",
      " -5.95692985e-01 -1.26588469e+00 -2.65155403e+00  4.07489548e+01\n",
      " -1.81312877e+00  5.16982672e-01  8.12390253e+01  2.90943730e+00\n",
      " -2.38279343e+00  1.31078482e+01 -6.00996557e-01 -2.67754786e+00\n",
      "  5.49269541e-01  2.26541548e+00  3.00285718e+00 -1.11042705e-01\n",
      " -1.78102510e+00  2.00454095e+01  1.28854760e+00 -1.14497837e+00\n",
      "  1.35506478e+00 -1.95433399e-01  3.91674679e+00  3.76986783e+00\n",
      " -3.93939378e-01 -8.10464248e-01 -4.85088565e-01 -4.74252172e-01\n",
      " -1.63458963e+00  2.72496192e+01  1.94288898e+00  1.52997934e-01\n",
      " -1.12017682e+00  4.23550722e+01 -3.85917864e-01 -4.25160107e+00\n",
      " -1.33000255e+00 -2.39478588e+00 -1.63125672e+00 -4.36170900e-01\n",
      "  7.75649700e-01 -7.25459483e-02 -1.38891985e+00  2.79839853e+01\n",
      "  1.96424234e+01  2.94214554e+00 -2.99060387e+00  2.54658546e+00\n",
      "  2.43404297e+01 -1.06008816e+00 -4.06676556e-01 -7.43478678e-01\n",
      "  2.64532295e+00  7.60094125e-01 -1.59631998e+00  2.87826667e-01\n",
      "  1.80643931e+00  1.45779539e+00 -9.05461298e-01  2.79275238e+00\n",
      "  7.03688138e-01 -1.44523800e+00  2.51183031e+00  9.15715119e-01\n",
      "  1.85918067e+00 -5.68178064e-01 -4.73122389e-03  4.27902924e-01\n",
      "  9.38650142e-01 -4.20192403e+00  3.02339108e-01  2.87848262e+00]\n"
     ]
    }
   ],
   "source": [
    "\n",
    "lasso = Lasso(alpha=0.0001,max_iter=1000000).fit(X_train,y_train)\n",
    "print(\"ridge score (train): {}\".format(lasso.score(X_train, y_train)))\n",
    "print(\"ridge score (test): {}\".format(lasso.score(X_test, y_test)))\n",
    "print(\"number of parameter : {}\".format(np.sum(lasso.coef_!=0)))\n",
    "print(\"coef_ : {}\".format(lasso.coef_))"
   ]
  },
  {
   "cell_type": "code",
   "execution_count": null,
   "id": "29f3d159",
   "metadata": {},
   "outputs": [],
   "source": []
  }
 ],
 "metadata": {
  "kernelspec": {
   "display_name": "Python 3",
   "language": "python",
   "name": "python3"
  },
  "language_info": {
   "codemirror_mode": {
    "name": "ipython",
    "version": 3
   },
   "file_extension": ".py",
   "mimetype": "text/x-python",
   "name": "python",
   "nbconvert_exporter": "python",
   "pygments_lexer": "ipython3",
   "version": "3.10.12"
  }
 },
 "nbformat": 4,
 "nbformat_minor": 5
}
